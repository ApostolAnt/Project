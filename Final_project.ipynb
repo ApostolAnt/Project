{
 "cells": [
  {
   "cell_type": "markdown",
   "metadata": {},
   "source": [
    "$\\hspace{7cm}\\textbf{Импортируем все необходимые библиотеки:}$"
   ]
  },
  {
   "cell_type": "code",
   "execution_count": 65,
   "metadata": {},
   "outputs": [],
   "source": [
    "import pandas as pd\n",
    "import seaborn as sns\n",
    "import matplotlib.pyplot as plt\n",
    "from datetime import datetime\n",
    "import numpy as np\n",
    "from sklearn.linear_model import SGDClassifier\n",
    "from sklearn.ensemble import RandomForestClassifier\n",
    "from sklearn.cluster import KMeans\n",
    "from sklearn.mixture import GaussianMixture\n",
    "from sklearn.model_selection import cross_val_score, GroupKFold\n",
    "from sklearn.metrics import accuracy_score \n",
    "\n",
    "from matplotlib import pyplot as plt\n",
    "import seaborn\n",
    "%matplotlib inline\n",
    "seaborn.set_style(\"whitegrid\", {'axes.grid' : False})\n",
    "\n",
    "from sklearn.metrics import roc_auc_score"
   ]
  },
  {
   "cell_type": "markdown",
   "metadata": {},
   "source": [
    "$\\textbf{Функция для перемешки по id пользователей, удобную кросс-валидацию, функцию для вывода качества для всех дней,}$\n",
    "$\\textbf{функция для проверки переобучения :}$"
   ]
  },
  {
   "cell_type": "code",
   "execution_count": 66,
   "metadata": {},
   "outputs": [],
   "source": [
    "def UserFold( data, splt = 2 ):\n",
    "    User_Num = dict( [ (y, x) for (x, y) in enumerate( set( data['UserID'] ) ) ] )\n",
    "    groups_list = [ User_Num[x] for x in data['UserID'] ]\n",
    "    return GroupKFold( n_splits = splt ).split( data, groups = groups_list )"
   ]
  },
  {
   "cell_type": "code",
   "execution_count": 138,
   "metadata": {},
   "outputs": [],
   "source": [
    "def Cross_Val_Score_(model, X, y, splt = 3, scoring_ = 'accuracy', U_ID = 'UserID'):\n",
    "    X_= X.drop( [U_ID], axis=1 )\n",
    "    accr = cross_val_score(model, X_ ,y, cv=UserFold(X, splt), scoring=scoring_)\n",
    "    print \"Score on the model:\", model\n",
    "    print \"\"\n",
    "    print \"On all CV:\",(accr)\n",
    "    print \"Mean:\",(np.mean(accr))"
   ]
  },
  {
   "cell_type": "code",
   "execution_count": 156,
   "metadata": {},
   "outputs": [],
   "source": [
    "def Quantity_To_Everyday(model, data, usless_par = ['Timezone','t','time','sleep', 'UserID'] , scoring = 'accuracy'): \n",
    "    #warning!!! обязательно использование временных ограничений, описанных ниже\n",
    "    day = {}\n",
    "    accr = []\n",
    "\n",
    "    day[12]= data.loc[(data['t'] > _12s) & (data['t'] < _12f)]\n",
    "    day[13]= data.loc[(data['t'] > _13s) & (data['t'] < _13f)]\n",
    "    day[14]= data.loc[(data['t'] > _14s) & (data['t'] < _14f)]\n",
    "    day[15]= data.loc[(data['t'] > _15s) & (data['t'] < _15f)]\n",
    "    day[16]= data.loc[(data['t'] > _16s) & (data['t'] < _16f)]\n",
    "    day[17]= data.loc[(data['t'] > _17s) & (data['t'] < _17f)]\n",
    "    day[18]= data.loc[(data['t'] > _18s) & (data['t'] < _18f)]\n",
    "    day[19]= data.loc[(data['t'] > _19s) & (data['t'] < _19f)]\n",
    "    day[20]= data.loc[(data['t'] > _20s) & (data['t'] < _20f)]\n",
    "    day[21]= data.loc[(data['t'] > _21s) & (data['t'] < _21f)]\n",
    "    \n",
    "    for i in range(12,21):\n",
    "        \n",
    "        X = day[i].drop( ['Timezone','t','time','sleep','UserID'], axis=1 )\n",
    "        y = pd.DataFrame(day[i].Timezone)\n",
    "        if len(X) == 0:\n",
    "            accr.append(0)\n",
    "            continue\n",
    "        y_predict = model.predict(X)\n",
    "        \n",
    "        if scoring == 'accuracy':\n",
    "            accr.append(accuracy_score(y,y_predict))\n",
    "        if scoring != 'accuracy':\n",
    "            print 'sorry! not now('\n",
    "            \n",
    "    return accr  "
   ]
  },
  {
   "cell_type": "code",
   "execution_count": 125,
   "metadata": {},
   "outputs": [],
   "source": [
    "def Are_You_Retrained(model, X, y, scoring = 'accuracy'):\n",
    "    print 'Job function Are_You_Retrained?'\n",
    "    if scoring == 'accuracy':\n",
    "        predict_on_train_on_0 = model.predict( X[ pd.DataFrame(y).Timezone == 0 ] )\n",
    "        print \"error on 0 tag\" , ( accuracy_score( y[ (pd.DataFrame(y)).Timezone == 0 ], predict_on_train_on_0 ))\n",
    "        predict_on_train_on_1 = model.predict( X[ pd.DataFrame(y).Timezone == 1 ])\n",
    "        print \"error on 1 tag\" ,(accuracy_score( y[ pd.DataFrame(y).Timezone == 1 ], predict_on_train_on_1 ))\n",
    "        predict_on_train = model.predict( X )\n",
    "        print \"error on train\" ,(accuracy_score( y, predict_on_train ))\n",
    "    if scoring != 'accuracy':\n",
    "        print 'sorry! Not now'"
   ]
  },
  {
   "cell_type": "code",
   "execution_count": 136,
   "metadata": {},
   "outputs": [],
   "source": [
    "#TODO функцию для создания подвыборок по дням"
   ]
  },
  {
   "cell_type": "markdown",
   "metadata": {},
   "source": [
    "$\\hspace{5cm}\\textbf{Импортируем базу, в которой уже есть столбец с меткой сна:}$"
   ]
  },
  {
   "cell_type": "code",
   "execution_count": 71,
   "metadata": {},
   "outputs": [],
   "source": [
    "df_for_class_1 = pd.read_csv('union_data.csv')"
   ]
  },
  {
   "cell_type": "code",
   "execution_count": 72,
   "metadata": {},
   "outputs": [
    {
     "data": {
      "text/html": [
       "<div>\n",
       "<style scoped>\n",
       "    .dataframe tbody tr th:only-of-type {\n",
       "        vertical-align: middle;\n",
       "    }\n",
       "\n",
       "    .dataframe tbody tr th {\n",
       "        vertical-align: top;\n",
       "    }\n",
       "\n",
       "    .dataframe thead th {\n",
       "        text-align: right;\n",
       "    }\n",
       "</style>\n",
       "<table border=\"1\" class=\"dataframe\">\n",
       "  <thead>\n",
       "    <tr style=\"text-align: right;\">\n",
       "      <th></th>\n",
       "      <th>UserID</th>\n",
       "      <th>SessionID</th>\n",
       "      <th>HRVTi</th>\n",
       "      <th>HF_norm</th>\n",
       "      <th>ln_VLF</th>\n",
       "      <th>LF_over_HF</th>\n",
       "      <th>LF_norm</th>\n",
       "      <th>SDNN</th>\n",
       "      <th>WN1</th>\n",
       "      <th>t</th>\n",
       "      <th>...</th>\n",
       "      <th>SI</th>\n",
       "      <th>ln_TP</th>\n",
       "      <th>ln_HF</th>\n",
       "      <th>minHR</th>\n",
       "      <th>time</th>\n",
       "      <th>sleep</th>\n",
       "      <th>unti_id</th>\n",
       "      <th>Timezone</th>\n",
       "      <th>Sex</th>\n",
       "      <th>Age</th>\n",
       "    </tr>\n",
       "  </thead>\n",
       "  <tbody>\n",
       "    <tr>\n",
       "      <th>0</th>\n",
       "      <td>pv_92</td>\n",
       "      <td>1.531312e+12</td>\n",
       "      <td>2.849462</td>\n",
       "      <td>30.852827</td>\n",
       "      <td>5.456647</td>\n",
       "      <td>2.241194</td>\n",
       "      <td>69.147173</td>\n",
       "      <td>18.417277</td>\n",
       "      <td>109.3750</td>\n",
       "      <td>1.531317e+12</td>\n",
       "      <td>...</td>\n",
       "      <td>603.773585</td>\n",
       "      <td>5.618093</td>\n",
       "      <td>2.538927</td>\n",
       "      <td>116.504854</td>\n",
       "      <td>2018-07-11 16:43:16.627</td>\n",
       "      <td>0.0</td>\n",
       "      <td>12994</td>\n",
       "      <td>3.0</td>\n",
       "      <td>0</td>\n",
       "      <td>25</td>\n",
       "    </tr>\n",
       "    <tr>\n",
       "      <th>1</th>\n",
       "      <td>pv_92</td>\n",
       "      <td>1.531312e+12</td>\n",
       "      <td>3.089888</td>\n",
       "      <td>41.650201</td>\n",
       "      <td>5.311800</td>\n",
       "      <td>1.400949</td>\n",
       "      <td>58.349799</td>\n",
       "      <td>18.541256</td>\n",
       "      <td>78.1250</td>\n",
       "      <td>1.531317e+12</td>\n",
       "      <td>...</td>\n",
       "      <td>836.363636</td>\n",
       "      <td>5.677170</td>\n",
       "      <td>3.617333</td>\n",
       "      <td>128.205128</td>\n",
       "      <td>2018-07-11 16:43:47.166</td>\n",
       "      <td>0.0</td>\n",
       "      <td>12994</td>\n",
       "      <td>3.0</td>\n",
       "      <td>0</td>\n",
       "      <td>25</td>\n",
       "    </tr>\n",
       "    <tr>\n",
       "      <th>2</th>\n",
       "      <td>pv_92</td>\n",
       "      <td>1.531312e+12</td>\n",
       "      <td>4.115942</td>\n",
       "      <td>42.860733</td>\n",
       "      <td>5.836430</td>\n",
       "      <td>1.333138</td>\n",
       "      <td>57.139267</td>\n",
       "      <td>23.285810</td>\n",
       "      <td>85.9375</td>\n",
       "      <td>1.531317e+12</td>\n",
       "      <td>...</td>\n",
       "      <td>448.943662</td>\n",
       "      <td>6.192750</td>\n",
       "      <td>4.140735</td>\n",
       "      <td>128.205128</td>\n",
       "      <td>2018-07-11 16:44:17.088</td>\n",
       "      <td>0.0</td>\n",
       "      <td>12994</td>\n",
       "      <td>3.0</td>\n",
       "      <td>0</td>\n",
       "      <td>25</td>\n",
       "    </tr>\n",
       "    <tr>\n",
       "      <th>3</th>\n",
       "      <td>pv_92</td>\n",
       "      <td>1.531312e+12</td>\n",
       "      <td>3.172043</td>\n",
       "      <td>43.376931</td>\n",
       "      <td>5.344657</td>\n",
       "      <td>1.305373</td>\n",
       "      <td>56.623069</td>\n",
       "      <td>18.766367</td>\n",
       "      <td>85.9375</td>\n",
       "      <td>1.531317e+12</td>\n",
       "      <td>...</td>\n",
       "      <td>736.077482</td>\n",
       "      <td>5.674646</td>\n",
       "      <td>3.570246</td>\n",
       "      <td>133.037694</td>\n",
       "      <td>2018-07-11 16:44:47.438</td>\n",
       "      <td>0.0</td>\n",
       "      <td>12994</td>\n",
       "      <td>3.0</td>\n",
       "      <td>0</td>\n",
       "      <td>25</td>\n",
       "    </tr>\n",
       "    <tr>\n",
       "      <th>4</th>\n",
       "      <td>pv_92</td>\n",
       "      <td>1.531312e+12</td>\n",
       "      <td>2.779817</td>\n",
       "      <td>43.298677</td>\n",
       "      <td>4.823169</td>\n",
       "      <td>1.309539</td>\n",
       "      <td>56.701323</td>\n",
       "      <td>13.028514</td>\n",
       "      <td>62.5000</td>\n",
       "      <td>1.531317e+12</td>\n",
       "      <td>...</td>\n",
       "      <td>985.384253</td>\n",
       "      <td>5.007397</td>\n",
       "      <td>2.388067</td>\n",
       "      <td>140.845070</td>\n",
       "      <td>2018-07-11 16:45:17.473</td>\n",
       "      <td>0.0</td>\n",
       "      <td>12994</td>\n",
       "      <td>3.0</td>\n",
       "      <td>0</td>\n",
       "      <td>25</td>\n",
       "    </tr>\n",
       "    <tr>\n",
       "      <th>5</th>\n",
       "      <td>pv_92</td>\n",
       "      <td>1.531312e+12</td>\n",
       "      <td>2.883495</td>\n",
       "      <td>42.791203</td>\n",
       "      <td>6.024488</td>\n",
       "      <td>1.336929</td>\n",
       "      <td>57.208797</td>\n",
       "      <td>24.179734</td>\n",
       "      <td>117.1875</td>\n",
       "      <td>1.531317e+12</td>\n",
       "      <td>...</td>\n",
       "      <td>647.747314</td>\n",
       "      <td>6.211702</td>\n",
       "      <td>3.595214</td>\n",
       "      <td>125.000000</td>\n",
       "      <td>2018-07-11 16:45:48.241</td>\n",
       "      <td>0.0</td>\n",
       "      <td>12994</td>\n",
       "      <td>3.0</td>\n",
       "      <td>0</td>\n",
       "      <td>25</td>\n",
       "    </tr>\n",
       "    <tr>\n",
       "      <th>6</th>\n",
       "      <td>pv_92</td>\n",
       "      <td>1.531312e+12</td>\n",
       "      <td>6.860465</td>\n",
       "      <td>41.533192</td>\n",
       "      <td>6.035504</td>\n",
       "      <td>1.407713</td>\n",
       "      <td>58.466808</td>\n",
       "      <td>24.332028</td>\n",
       "      <td>117.1875</td>\n",
       "      <td>1.531317e+12</td>\n",
       "      <td>...</td>\n",
       "      <td>448.748991</td>\n",
       "      <td>6.232121</td>\n",
       "      <td>3.630250</td>\n",
       "      <td>125.000000</td>\n",
       "      <td>2018-07-11 16:46:18.168</td>\n",
       "      <td>0.0</td>\n",
       "      <td>12994</td>\n",
       "      <td>3.0</td>\n",
       "      <td>0</td>\n",
       "      <td>25</td>\n",
       "    </tr>\n",
       "    <tr>\n",
       "      <th>7</th>\n",
       "      <td>pv_92</td>\n",
       "      <td>1.531312e+12</td>\n",
       "      <td>5.052632</td>\n",
       "      <td>42.448857</td>\n",
       "      <td>6.114383</td>\n",
       "      <td>1.355776</td>\n",
       "      <td>57.551143</td>\n",
       "      <td>21.706571</td>\n",
       "      <td>117.1875</td>\n",
       "      <td>1.531317e+12</td>\n",
       "      <td>...</td>\n",
       "      <td>587.384259</td>\n",
       "      <td>6.547733</td>\n",
       "      <td>4.645792</td>\n",
       "      <td>125.000000</td>\n",
       "      <td>2018-07-11 16:47:10.020</td>\n",
       "      <td>0.0</td>\n",
       "      <td>12994</td>\n",
       "      <td>3.0</td>\n",
       "      <td>0</td>\n",
       "      <td>25</td>\n",
       "    </tr>\n",
       "    <tr>\n",
       "      <th>8</th>\n",
       "      <td>pv_92</td>\n",
       "      <td>1.531312e+12</td>\n",
       "      <td>5.770833</td>\n",
       "      <td>24.057788</td>\n",
       "      <td>5.954074</td>\n",
       "      <td>3.156658</td>\n",
       "      <td>75.942212</td>\n",
       "      <td>24.955605</td>\n",
       "      <td>132.8125</td>\n",
       "      <td>1.531317e+12</td>\n",
       "      <td>...</td>\n",
       "      <td>583.634176</td>\n",
       "      <td>6.214625</td>\n",
       "      <td>3.317508</td>\n",
       "      <td>114.942529</td>\n",
       "      <td>2018-07-11 16:47:40.328</td>\n",
       "      <td>0.0</td>\n",
       "      <td>12994</td>\n",
       "      <td>3.0</td>\n",
       "      <td>0</td>\n",
       "      <td>25</td>\n",
       "    </tr>\n",
       "    <tr>\n",
       "      <th>9</th>\n",
       "      <td>pv_92</td>\n",
       "      <td>1.531312e+12</td>\n",
       "      <td>6.871795</td>\n",
       "      <td>41.818502</td>\n",
       "      <td>6.811360</td>\n",
       "      <td>1.391286</td>\n",
       "      <td>58.181498</td>\n",
       "      <td>38.783723</td>\n",
       "      <td>148.4375</td>\n",
       "      <td>1.531317e+12</td>\n",
       "      <td>...</td>\n",
       "      <td>340.485075</td>\n",
       "      <td>7.075559</td>\n",
       "      <td>4.743485</td>\n",
       "      <td>112.149533</td>\n",
       "      <td>2018-07-11 16:48:31.306</td>\n",
       "      <td>0.0</td>\n",
       "      <td>12994</td>\n",
       "      <td>3.0</td>\n",
       "      <td>0</td>\n",
       "      <td>25</td>\n",
       "    </tr>\n",
       "  </tbody>\n",
       "</table>\n",
       "<p>10 rows × 43 columns</p>\n",
       "</div>"
      ],
      "text/plain": [
       "  UserID     SessionID     HRVTi    HF_norm    ln_VLF  LF_over_HF    LF_norm  \\\n",
       "0  pv_92  1.531312e+12  2.849462  30.852827  5.456647    2.241194  69.147173   \n",
       "1  pv_92  1.531312e+12  3.089888  41.650201  5.311800    1.400949  58.349799   \n",
       "2  pv_92  1.531312e+12  4.115942  42.860733  5.836430    1.333138  57.139267   \n",
       "3  pv_92  1.531312e+12  3.172043  43.376931  5.344657    1.305373  56.623069   \n",
       "4  pv_92  1.531312e+12  2.779817  43.298677  4.823169    1.309539  56.701323   \n",
       "5  pv_92  1.531312e+12  2.883495  42.791203  6.024488    1.336929  57.208797   \n",
       "6  pv_92  1.531312e+12  6.860465  41.533192  6.035504    1.407713  58.466808   \n",
       "7  pv_92  1.531312e+12  5.052632  42.448857  6.114383    1.355776  57.551143   \n",
       "8  pv_92  1.531312e+12  5.770833  24.057788  5.954074    3.156658  75.942212   \n",
       "9  pv_92  1.531312e+12  6.871795  41.818502  6.811360    1.391286  58.181498   \n",
       "\n",
       "        SDNN       WN1             t ...           SI     ln_TP     ln_HF  \\\n",
       "0  18.417277  109.3750  1.531317e+12 ...   603.773585  5.618093  2.538927   \n",
       "1  18.541256   78.1250  1.531317e+12 ...   836.363636  5.677170  3.617333   \n",
       "2  23.285810   85.9375  1.531317e+12 ...   448.943662  6.192750  4.140735   \n",
       "3  18.766367   85.9375  1.531317e+12 ...   736.077482  5.674646  3.570246   \n",
       "4  13.028514   62.5000  1.531317e+12 ...   985.384253  5.007397  2.388067   \n",
       "5  24.179734  117.1875  1.531317e+12 ...   647.747314  6.211702  3.595214   \n",
       "6  24.332028  117.1875  1.531317e+12 ...   448.748991  6.232121  3.630250   \n",
       "7  21.706571  117.1875  1.531317e+12 ...   587.384259  6.547733  4.645792   \n",
       "8  24.955605  132.8125  1.531317e+12 ...   583.634176  6.214625  3.317508   \n",
       "9  38.783723  148.4375  1.531317e+12 ...   340.485075  7.075559  4.743485   \n",
       "\n",
       "        minHR                     time  sleep  unti_id  Timezone  Sex  Age  \n",
       "0  116.504854  2018-07-11 16:43:16.627    0.0    12994       3.0    0   25  \n",
       "1  128.205128  2018-07-11 16:43:47.166    0.0    12994       3.0    0   25  \n",
       "2  128.205128  2018-07-11 16:44:17.088    0.0    12994       3.0    0   25  \n",
       "3  133.037694  2018-07-11 16:44:47.438    0.0    12994       3.0    0   25  \n",
       "4  140.845070  2018-07-11 16:45:17.473    0.0    12994       3.0    0   25  \n",
       "5  125.000000  2018-07-11 16:45:48.241    0.0    12994       3.0    0   25  \n",
       "6  125.000000  2018-07-11 16:46:18.168    0.0    12994       3.0    0   25  \n",
       "7  125.000000  2018-07-11 16:47:10.020    0.0    12994       3.0    0   25  \n",
       "8  114.942529  2018-07-11 16:47:40.328    0.0    12994       3.0    0   25  \n",
       "9  112.149533  2018-07-11 16:48:31.306    0.0    12994       3.0    0   25  \n",
       "\n",
       "[10 rows x 43 columns]"
      ]
     },
     "execution_count": 72,
     "metadata": {},
     "output_type": "execute_result"
    }
   ],
   "source": [
    "df_for_class_1.head(10) # смотрим, что у нас за данные в столбцах"
   ]
  },
  {
   "cell_type": "code",
   "execution_count": 73,
   "metadata": {},
   "outputs": [
    {
     "data": {
      "text/plain": [
       "Index([u'UserID', u'SessionID', u'HRVTi', u'HF_norm', u'ln_VLF', u'LF_over_HF',\n",
       "       u'LF_norm', u'SDNN', u'WN1', u't', u'LF', u'VLF_percent', u'A', u'mRR',\n",
       "       u'Amo', u'VLF', u'Mo', u'LF_percent', u'WN4', u'maxHR', u'VLF_over_HF',\n",
       "       u'RMSSD', u'WN5', u'IC', u'HF', u'MxDMn', u'TP', u'HF_percent',\n",
       "       u'count', u'avrHR', u'artifactsCount', u'pNN50', u'ln_LF', u'SI',\n",
       "       u'ln_TP', u'ln_HF', u'minHR', u'time', u'sleep', u'unti_id',\n",
       "       u'Timezone', u'Sex', u'Age'],\n",
       "      dtype='object')"
      ]
     },
     "execution_count": 73,
     "metadata": {},
     "output_type": "execute_result"
    }
   ],
   "source": [
    "df_for_class_1.columns # выводим все столбцы"
   ]
  },
  {
   "cell_type": "markdown",
   "metadata": {},
   "source": [
    "Из всех столбцов(\n",
    "\n",
    "                       'UserID', 'SessionID', 'HRVTi', 'HF_norm', 'ln_VLF', 'LF_over_HF',\n",
    "\n",
    "                        'LF_norm', 'SDNN', 'WN1', 't', 'LF', 'VLF_percent', 'A', 'mRR',\n",
    "                        \n",
    "                        'Amo', 'VLF', 'Mo', 'LF_percent', 'WN4', 'maxHR', 'VLF_over_HF',\n",
    "                        \n",
    "                        'RMSSD', 'WN5', 'IC', 'HF', 'MxDMn', 'TP', 'HF_percent',\n",
    "                        \n",
    "                        'count', 'avrHR', 'artifactsCount', 'pNN50', 'ln_LF', 'SI', \n",
    "                        \n",
    "                        'ln_TP', 'ln_HF', 'minHR', 'time', 'sleep', 'unti_id',\n",
    "                        \n",
    "                        'Timezone', 'Sex', 'Age'\n",
    "                        \n",
    "                )\n",
    "                        \n",
    "Мы оставляем не коррелирующие и наиболее подходящие для определения дессинхроноза(\n",
    "\n",
    "                     'A', 'pNN50', 'LF', 'LF_over_HF', 'HF', 'VLF_over_HF', 't',\n",
    "                     \n",
    "                     'time', 'sleep', 'Timezone', 'UserID', 'avrHR', 'HRVTi' \n",
    "                      \n",
    "                      )\n",
    "                      \n",
    "\n",
    "                      \n",
    "       "
   ]
  },
  {
   "cell_type": "code",
   "execution_count": 81,
   "metadata": {},
   "outputs": [],
   "source": [
    "df_for_class_2 = df_for_class_1[ ['A', 'pNN50', 'LF', 'LF_over_HF', 'HF', 'VLF_over_HF', 't', 'time', 'sleep', 'Timezone', 'UserID', 'avrHR', 'HRVTi' ] ]"
   ]
  },
  {
   "cell_type": "markdown",
   "metadata": {},
   "source": [
    "$\\hspace{5cm}\\textbf{Выберем только те данные, на которых есть метка сна = 1:}$"
   ]
  },
  {
   "cell_type": "code",
   "execution_count": 82,
   "metadata": {},
   "outputs": [],
   "source": [
    "df_for_class_2 = df_for_class_2[df_for_class_2['sleep']==1]"
   ]
  },
  {
   "cell_type": "markdown",
   "metadata": {},
   "source": [
    "$\\hspace{4.5cm}\\textbf{Для обучения будем использовать только людей из 2,3,8,9,10 часовых поясов:}$"
   ]
  },
  {
   "cell_type": "code",
   "execution_count": 83,
   "metadata": {},
   "outputs": [],
   "source": [
    "df_for_class_train_all = df_for_class_2.drop(df_for_class_2[ ( df_for_class_2.Timezone >= 4 ) & ( df_for_class_2.Timezone <= 7) ].index)"
   ]
  },
  {
   "cell_type": "markdown",
   "metadata": {},
   "source": [
    "Людям из {2,3} часовых поясов присвоим метку класса 0, а {8,9,10} метку класса 1:"
   ]
  },
  {
   "cell_type": "code",
   "execution_count": 84,
   "metadata": {},
   "outputs": [],
   "source": [
    "df_for_class_train_all['Timezone'] = df_for_class_train_all['Timezone'].map( { 2:0, 3:0, 8:1, 9:1, 10:1 } )"
   ]
  },
  {
   "cell_type": "markdown",
   "metadata": {},
   "source": [
    "Так же выделим контрольные выборки из людей из 5 и 7 часовых поясов и первой присвоим метку 0, а второму метку 1:"
   ]
  },
  {
   "cell_type": "code",
   "execution_count": 85,
   "metadata": {},
   "outputs": [],
   "source": [
    "df_for_class_control_5 = df_for_class_2[df_for_class_2.Timezone == 5 ]\n",
    "df_for_class_control_7 = df_for_class_2[df_for_class_2.Timezone == 7 ]"
   ]
  },
  {
   "cell_type": "markdown",
   "metadata": {},
   "source": [
    "Выделим так же все часовые поясы, чтобы проследить как работает модель:"
   ]
  },
  {
   "cell_type": "code",
   "execution_count": 86,
   "metadata": {},
   "outputs": [],
   "source": [
    "df_for_class_control_2 = df_for_class_2[df_for_class_2.Timezone == 2 ]\n",
    "df_for_class_control_3 = df_for_class_2[df_for_class_2.Timezone == 3 ]\n",
    "df_for_class_control_4 = df_for_class_2[df_for_class_2.Timezone == 4 ]\n",
    "df_for_class_control_6 = df_for_class_2[df_for_class_2.Timezone == 6 ]\n",
    "df_for_class_control_8 = df_for_class_2[df_for_class_2.Timezone == 8 ]\n",
    "df_for_class_control_9 = df_for_class_2[df_for_class_2.Timezone == 9 ]\n",
    "df_for_class_control_10 = df_for_class_2[df_for_class_2.Timezone == 10 ]"
   ]
  },
  {
   "cell_type": "markdown",
   "metadata": {},
   "source": [
    "Блок с предположенными метками для контрольных выборок:"
   ]
  },
  {
   "cell_type": "code",
   "execution_count": 88,
   "metadata": {},
   "outputs": [
    {
     "name": "stderr",
     "output_type": "stream",
     "text": [
      "/home/anton/anaconda2/lib/python2.7/site-packages/ipykernel_launcher.py:1: SettingWithCopyWarning: \n",
      "A value is trying to be set on a copy of a slice from a DataFrame.\n",
      "Try using .loc[row_indexer,col_indexer] = value instead\n",
      "\n",
      "See the caveats in the documentation: http://pandas.pydata.org/pandas-docs/stable/indexing.html#indexing-view-versus-copy\n",
      "  \"\"\"Entry point for launching an IPython kernel.\n",
      "/home/anton/anaconda2/lib/python2.7/site-packages/ipykernel_launcher.py:2: SettingWithCopyWarning: \n",
      "A value is trying to be set on a copy of a slice from a DataFrame.\n",
      "Try using .loc[row_indexer,col_indexer] = value instead\n",
      "\n",
      "See the caveats in the documentation: http://pandas.pydata.org/pandas-docs/stable/indexing.html#indexing-view-versus-copy\n",
      "  \n",
      "/home/anton/anaconda2/lib/python2.7/site-packages/ipykernel_launcher.py:3: SettingWithCopyWarning: \n",
      "A value is trying to be set on a copy of a slice from a DataFrame.\n",
      "Try using .loc[row_indexer,col_indexer] = value instead\n",
      "\n",
      "See the caveats in the documentation: http://pandas.pydata.org/pandas-docs/stable/indexing.html#indexing-view-versus-copy\n",
      "  This is separate from the ipykernel package so we can avoid doing imports until\n",
      "/home/anton/anaconda2/lib/python2.7/site-packages/ipykernel_launcher.py:4: SettingWithCopyWarning: \n",
      "A value is trying to be set on a copy of a slice from a DataFrame.\n",
      "Try using .loc[row_indexer,col_indexer] = value instead\n",
      "\n",
      "See the caveats in the documentation: http://pandas.pydata.org/pandas-docs/stable/indexing.html#indexing-view-versus-copy\n",
      "  after removing the cwd from sys.path.\n",
      "/home/anton/anaconda2/lib/python2.7/site-packages/ipykernel_launcher.py:5: SettingWithCopyWarning: \n",
      "A value is trying to be set on a copy of a slice from a DataFrame.\n",
      "Try using .loc[row_indexer,col_indexer] = value instead\n",
      "\n",
      "See the caveats in the documentation: http://pandas.pydata.org/pandas-docs/stable/indexing.html#indexing-view-versus-copy\n",
      "  \"\"\"\n",
      "/home/anton/anaconda2/lib/python2.7/site-packages/ipykernel_launcher.py:6: SettingWithCopyWarning: \n",
      "A value is trying to be set on a copy of a slice from a DataFrame.\n",
      "Try using .loc[row_indexer,col_indexer] = value instead\n",
      "\n",
      "See the caveats in the documentation: http://pandas.pydata.org/pandas-docs/stable/indexing.html#indexing-view-versus-copy\n",
      "  \n",
      "/home/anton/anaconda2/lib/python2.7/site-packages/ipykernel_launcher.py:7: SettingWithCopyWarning: \n",
      "A value is trying to be set on a copy of a slice from a DataFrame.\n",
      "Try using .loc[row_indexer,col_indexer] = value instead\n",
      "\n",
      "See the caveats in the documentation: http://pandas.pydata.org/pandas-docs/stable/indexing.html#indexing-view-versus-copy\n",
      "  import sys\n",
      "/home/anton/anaconda2/lib/python2.7/site-packages/ipykernel_launcher.py:8: SettingWithCopyWarning: \n",
      "A value is trying to be set on a copy of a slice from a DataFrame.\n",
      "Try using .loc[row_indexer,col_indexer] = value instead\n",
      "\n",
      "See the caveats in the documentation: http://pandas.pydata.org/pandas-docs/stable/indexing.html#indexing-view-versus-copy\n",
      "  \n",
      "/home/anton/anaconda2/lib/python2.7/site-packages/ipykernel_launcher.py:9: SettingWithCopyWarning: \n",
      "A value is trying to be set on a copy of a slice from a DataFrame.\n",
      "Try using .loc[row_indexer,col_indexer] = value instead\n",
      "\n",
      "See the caveats in the documentation: http://pandas.pydata.org/pandas-docs/stable/indexing.html#indexing-view-versus-copy\n",
      "  if __name__ == '__main__':\n"
     ]
    }
   ],
   "source": [
    "df_for_class_control_2['Timezone'] = df_for_class_control_2['Timezone'].map( { 2:0 } )\n",
    "df_for_class_control_3['Timezone'] = df_for_class_control_3['Timezone'].map( { 3:0 } )\n",
    "df_for_class_control_4['Timezone'] = df_for_class_control_4['Timezone'].map( { 4:0 } )\n",
    "df_for_class_control_5['Timezone'] = df_for_class_control_5['Timezone'].map( { 5:0 } )\n",
    "df_for_class_control_6['Timezone'] = df_for_class_control_6['Timezone'].map( { 6:0 } )\n",
    "df_for_class_control_7['Timezone'] = df_for_class_control_7['Timezone'].map( { 7:0 } )\n",
    "df_for_class_control_8['Timezone'] = df_for_class_control_8['Timezone'].map( { 8:1 } )\n",
    "df_for_class_control_9['Timezone'] = df_for_class_control_9['Timezone'].map( { 9:1 } )\n",
    "df_for_class_control_10['Timezone'] = df_for_class_control_10['Timezone'].map( { 10:1 } )"
   ]
  },
  {
   "cell_type": "markdown",
   "metadata": {},
   "source": [
    "$\\hspace{8cm}\\textbf{Да начнется игра со временем!!!:}$"
   ]
  },
  {
   "cell_type": "markdown",
   "metadata": {},
   "source": [
    "Запишем примерные периоды сна( ~00:30 -- ~10:00):"
   ]
  },
  {
   "cell_type": "code",
   "execution_count": 89,
   "metadata": {},
   "outputs": [],
   "source": [
    "import time\n",
    "import datetime"
   ]
  },
  {
   "cell_type": "markdown",
   "metadata": {},
   "source": [
    "---"
   ]
  },
  {
   "cell_type": "code",
   "execution_count": 90,
   "metadata": {},
   "outputs": [],
   "source": [
    "_min = 1531086926334.0 #2018-07-09 00:55:26.334000\n",
    "\n",
    "_pos = 34200000 # _period_of_sleep\n",
    "_posn = 86400000 # _period_of_start_night"
   ]
  },
  {
   "cell_type": "code",
   "execution_count": 91,
   "metadata": {},
   "outputs": [
    {
     "name": "stdout",
     "output_type": "stream",
     "text": [
      "2018-07-11T00:30:26.334000\n"
     ]
    }
   ],
   "source": [
    "_10d_night_s = _min + 171300000\n",
    "print datetime.datetime.fromtimestamp((_10d_night_s)/1000).isoformat()\n",
    "_10s = _10d_night_s"
   ]
  },
  {
   "cell_type": "code",
   "execution_count": 92,
   "metadata": {},
   "outputs": [
    {
     "name": "stdout",
     "output_type": "stream",
     "text": [
      "2018-07-11T10:00:26.334000\n"
     ]
    }
   ],
   "source": [
    "_10d_night_f = _min + 205500000\n",
    "print datetime.datetime.fromtimestamp((_10d_night_f)/1000).isoformat()\n",
    "_10f = _10d_night_f"
   ]
  },
  {
   "cell_type": "code",
   "execution_count": 93,
   "metadata": {},
   "outputs": [
    {
     "name": "stdout",
     "output_type": "stream",
     "text": [
      "2018-07-12T00:30:26.334000\n"
     ]
    }
   ],
   "source": [
    "_11d_night_s = _10d_night_s + _posn\n",
    "print datetime.datetime.fromtimestamp((_11d_night_s)/1000).isoformat()\n",
    "_11s = _11d_night_s"
   ]
  },
  {
   "cell_type": "code",
   "execution_count": 94,
   "metadata": {},
   "outputs": [
    {
     "name": "stdout",
     "output_type": "stream",
     "text": [
      "2018-07-12T10:00:26.334000\n"
     ]
    }
   ],
   "source": [
    "_11d_night_f = _11d_night_s + _pos\n",
    "print datetime.datetime.fromtimestamp((_11d_night_f)/1000).isoformat()\n",
    "_11f = _11d_night_f"
   ]
  },
  {
   "cell_type": "code",
   "execution_count": 95,
   "metadata": {},
   "outputs": [
    {
     "name": "stdout",
     "output_type": "stream",
     "text": [
      "2018-07-13T00:30:26.334000\n"
     ]
    }
   ],
   "source": [
    "_12d_night_s = _11d_night_s + _posn\n",
    "print datetime.datetime.fromtimestamp((_12d_night_s)/1000).isoformat()\n",
    "_12s = _12d_night_s"
   ]
  },
  {
   "cell_type": "code",
   "execution_count": 96,
   "metadata": {},
   "outputs": [
    {
     "name": "stdout",
     "output_type": "stream",
     "text": [
      "2018-07-13T10:00:26.334000\n"
     ]
    }
   ],
   "source": [
    "_12d_night_f = _12d_night_s + _pos\n",
    "print datetime.datetime.fromtimestamp((_12d_night_f)/1000).isoformat()\n",
    "_12f = _12d_night_f"
   ]
  },
  {
   "cell_type": "code",
   "execution_count": 97,
   "metadata": {},
   "outputs": [
    {
     "name": "stdout",
     "output_type": "stream",
     "text": [
      "2018-07-14T00:30:26.334000\n"
     ]
    }
   ],
   "source": [
    "_13d_night_s = _12d_night_s + _posn\n",
    "print datetime.datetime.fromtimestamp((_13d_night_s)/1000).isoformat()\n",
    "_13s = _13d_night_s"
   ]
  },
  {
   "cell_type": "code",
   "execution_count": 98,
   "metadata": {},
   "outputs": [
    {
     "name": "stdout",
     "output_type": "stream",
     "text": [
      "2018-07-14T10:00:26.334000\n"
     ]
    }
   ],
   "source": [
    "_13d_night_f = _13d_night_s + _pos\n",
    "print datetime.datetime.fromtimestamp((_13d_night_f)/1000).isoformat()\n",
    "_13f = _13d_night_f"
   ]
  },
  {
   "cell_type": "code",
   "execution_count": 99,
   "metadata": {},
   "outputs": [
    {
     "name": "stdout",
     "output_type": "stream",
     "text": [
      "2018-07-15T00:30:26.334000\n"
     ]
    }
   ],
   "source": [
    "_14d_night_s = _13d_night_s + _posn\n",
    "print datetime.datetime.fromtimestamp((_14d_night_s)/1000).isoformat()\n",
    "_14s = _14d_night_s"
   ]
  },
  {
   "cell_type": "code",
   "execution_count": 100,
   "metadata": {},
   "outputs": [
    {
     "name": "stdout",
     "output_type": "stream",
     "text": [
      "2018-07-15T10:00:26.334000\n"
     ]
    }
   ],
   "source": [
    "_14d_night_f = _14d_night_s + _pos\n",
    "print datetime.datetime.fromtimestamp((_14d_night_f)/1000).isoformat()\n",
    "_14f = _14d_night_f"
   ]
  },
  {
   "cell_type": "code",
   "execution_count": 101,
   "metadata": {},
   "outputs": [
    {
     "name": "stdout",
     "output_type": "stream",
     "text": [
      "2018-07-16T00:30:26.334000\n"
     ]
    }
   ],
   "source": [
    "_15d_night_s = _14d_night_s + _posn\n",
    "print datetime.datetime.fromtimestamp((_15d_night_s)/1000).isoformat()\n",
    "_15s = _15d_night_s"
   ]
  },
  {
   "cell_type": "code",
   "execution_count": 102,
   "metadata": {
    "scrolled": true
   },
   "outputs": [
    {
     "name": "stdout",
     "output_type": "stream",
     "text": [
      "2018-07-16T10:00:26.334000\n"
     ]
    }
   ],
   "source": [
    "_15d_night_f = _15d_night_s + _pos\n",
    "print datetime.datetime.fromtimestamp((_15d_night_f)/1000).isoformat()\n",
    "_15f = _15d_night_f"
   ]
  },
  {
   "cell_type": "code",
   "execution_count": 103,
   "metadata": {},
   "outputs": [
    {
     "name": "stdout",
     "output_type": "stream",
     "text": [
      "2018-07-17T00:30:26.334000\n"
     ]
    }
   ],
   "source": [
    "_16d_night_s = _15d_night_s + _posn\n",
    "print datetime.datetime.fromtimestamp((_16d_night_s)/1000).isoformat()\n",
    "_16s = _16d_night_s"
   ]
  },
  {
   "cell_type": "code",
   "execution_count": 104,
   "metadata": {},
   "outputs": [
    {
     "name": "stdout",
     "output_type": "stream",
     "text": [
      "2018-07-17T10:00:26.334000\n"
     ]
    }
   ],
   "source": [
    "_16d_night_f = _16d_night_s + _pos\n",
    "print datetime.datetime.fromtimestamp((_16d_night_f)/1000).isoformat()\n",
    "_16f = _16d_night_f"
   ]
  },
  {
   "cell_type": "code",
   "execution_count": 105,
   "metadata": {},
   "outputs": [
    {
     "name": "stdout",
     "output_type": "stream",
     "text": [
      "2018-07-18T00:30:26.334000\n"
     ]
    }
   ],
   "source": [
    "_17d_night_s = _16d_night_s + _posn\n",
    "print datetime.datetime.fromtimestamp((_17d_night_s)/1000).isoformat()\n",
    "_17s = _17d_night_s"
   ]
  },
  {
   "cell_type": "code",
   "execution_count": 106,
   "metadata": {},
   "outputs": [
    {
     "name": "stdout",
     "output_type": "stream",
     "text": [
      "2018-07-18T10:00:26.334000\n"
     ]
    }
   ],
   "source": [
    "_17d_night_f = _17d_night_s + _pos\n",
    "print datetime.datetime.fromtimestamp((_17d_night_f)/1000).isoformat()\n",
    "_17f = _17d_night_f"
   ]
  },
  {
   "cell_type": "code",
   "execution_count": 107,
   "metadata": {},
   "outputs": [
    {
     "name": "stdout",
     "output_type": "stream",
     "text": [
      "2018-07-19T00:30:26.334000\n"
     ]
    }
   ],
   "source": [
    "_18d_night_s = _17d_night_s + _posn\n",
    "print datetime.datetime.fromtimestamp((_18d_night_s)/1000).isoformat()\n",
    "_18s = _18d_night_s"
   ]
  },
  {
   "cell_type": "code",
   "execution_count": 108,
   "metadata": {},
   "outputs": [
    {
     "name": "stdout",
     "output_type": "stream",
     "text": [
      "2018-07-19T10:00:26.334000\n"
     ]
    }
   ],
   "source": [
    "_18d_night_f = _18d_night_s + _pos\n",
    "print datetime.datetime.fromtimestamp((_18d_night_f)/1000).isoformat()\n",
    "_18f = _18d_night_f"
   ]
  },
  {
   "cell_type": "code",
   "execution_count": 109,
   "metadata": {},
   "outputs": [
    {
     "name": "stdout",
     "output_type": "stream",
     "text": [
      "2018-07-20T00:30:26.334000\n"
     ]
    }
   ],
   "source": [
    "_19d_night_s = _18d_night_s + _posn\n",
    "print datetime.datetime.fromtimestamp((_19d_night_s)/1000).isoformat()\n",
    "_19s = _19d_night_s"
   ]
  },
  {
   "cell_type": "code",
   "execution_count": 110,
   "metadata": {},
   "outputs": [
    {
     "name": "stdout",
     "output_type": "stream",
     "text": [
      "2018-07-20T10:00:26.334000\n"
     ]
    }
   ],
   "source": [
    "_19d_night_f = _19d_night_s + _pos\n",
    "print datetime.datetime.fromtimestamp((_19d_night_f)/1000).isoformat()\n",
    "_19f = _19d_night_f"
   ]
  },
  {
   "cell_type": "code",
   "execution_count": 111,
   "metadata": {},
   "outputs": [
    {
     "name": "stdout",
     "output_type": "stream",
     "text": [
      "2018-07-21T00:30:26.334000\n"
     ]
    }
   ],
   "source": [
    "_20d_night_s = _19d_night_s + _posn\n",
    "print datetime.datetime.fromtimestamp((_20d_night_s)/1000).isoformat()\n",
    "_20s = _20d_night_s"
   ]
  },
  {
   "cell_type": "code",
   "execution_count": 112,
   "metadata": {},
   "outputs": [
    {
     "name": "stdout",
     "output_type": "stream",
     "text": [
      "2018-07-21T10:00:26.334000\n"
     ]
    }
   ],
   "source": [
    "_20d_night_f = _20d_night_s + _pos\n",
    "print datetime.datetime.fromtimestamp((_20d_night_f)/1000).isoformat()\n",
    "_20f = _20d_night_f"
   ]
  },
  {
   "cell_type": "code",
   "execution_count": 113,
   "metadata": {},
   "outputs": [
    {
     "name": "stdout",
     "output_type": "stream",
     "text": [
      "2018-07-22T00:30:26.334000\n"
     ]
    }
   ],
   "source": [
    "_21d_night_s = _20d_night_s + _posn\n",
    "print datetime.datetime.fromtimestamp((_21d_night_s)/1000).isoformat()\n",
    "_21s = _21d_night_s"
   ]
  },
  {
   "cell_type": "code",
   "execution_count": 114,
   "metadata": {},
   "outputs": [
    {
     "name": "stdout",
     "output_type": "stream",
     "text": [
      "2018-07-22T10:00:26.334000\n"
     ]
    }
   ],
   "source": [
    "_21d_night_f = _21d_night_s + _pos\n",
    "print datetime.datetime.fromtimestamp((_21d_night_f)/1000).isoformat()\n",
    "_21f  =_21d_night_f"
   ]
  },
  {
   "cell_type": "markdown",
   "metadata": {},
   "source": [
    "---"
   ]
  },
  {
   "cell_type": "markdown",
   "metadata": {},
   "source": [
    "Выделим данные для итогового обучения:"
   ]
  },
  {
   "cell_type": "code",
   "execution_count": 115,
   "metadata": {},
   "outputs": [],
   "source": [
    "mark_1 = (df_for_class_train_all['t'] > _12s) & (df_for_class_train_all['t'] < _12f)\n",
    "mark_2 = (df_for_class_train_all['t'] > _13s) & (df_for_class_train_all['t'] < _13f) \n",
    "mark_3 = (df_for_class_train_all.Timezone == 0)\n",
    "mark_4 = (df_for_class_train_all['t'] > _20s ) & (df_for_class_train_all['t'] < _20f )\n",
    "mark_5 = (df_for_class_train_all['t'] > _21s ) & (df_for_class_train_all['t'] < _21f )\n",
    "mark_6 = (df_for_class_train_all.Timezone == 1)"
   ]
  },
  {
   "cell_type": "code",
   "execution_count": 116,
   "metadata": {},
   "outputs": [],
   "source": [
    "#---\n",
    "df_for_class_with_hypothesis = df_for_class_train_all.loc[ ( ( mark_1 | mark_2 ) & mark_3 ) | ( (mark_4 | mark_5 ) & mark_6 ) ]\n",
    "#---"
   ]
  },
  {
   "cell_type": "code",
   "execution_count": 117,
   "metadata": {},
   "outputs": [],
   "source": [
    "X = df_for_class_with_hypothesis.drop( ['Timezone','t','time','sleep'], axis=1 )\n",
    "y = pd.DataFrame(df_for_class_with_hypothesis.Timezone)"
   ]
  },
  {
   "cell_type": "code",
   "execution_count": 118,
   "metadata": {},
   "outputs": [],
   "source": [
    "#fld = UserFold(X, splt = 3)\n",
    "X_ = X.drop( ['UserID'], axis=1 )"
   ]
  },
  {
   "cell_type": "markdown",
   "metadata": {},
   "source": [
    "Определим параметры модели:"
   ]
  },
  {
   "cell_type": "code",
   "execution_count": 119,
   "metadata": {},
   "outputs": [],
   "source": [
    "RFC = RandomForestClassifier( n_estimators = 1000, max_depth = 7, class_weight = 'balanced_subsample', min_samples_split = 3, min_impurity_decrease=0.0001, min_samples_leaf = 3, oob_score = False, warm_start = False )"
   ]
  },
  {
   "cell_type": "code",
   "execution_count": 120,
   "metadata": {},
   "outputs": [],
   "source": [
    "SGD = SGDClassifier(penalty='elasticnet', max_iter = 3000, class_weight = 'balanced')"
   ]
  },
  {
   "cell_type": "code",
   "execution_count": null,
   "metadata": {},
   "outputs": [],
   "source": []
  },
  {
   "cell_type": "code",
   "execution_count": null,
   "metadata": {},
   "outputs": [],
   "source": []
  },
  {
   "cell_type": "markdown",
   "metadata": {},
   "source": [
    "Проверим качество модели на кросс-валидации:"
   ]
  },
  {
   "cell_type": "code",
   "execution_count": 126,
   "metadata": {},
   "outputs": [
    {
     "name": "stderr",
     "output_type": "stream",
     "text": [
      "/home/anton/anaconda2/lib/python2.7/site-packages/sklearn/model_selection/_validation.py:528: DataConversionWarning: A column-vector y was passed when a 1d array was expected. Please change the shape of y to (n_samples,), for example using ravel().\n",
      "  estimator.fit(X_train, y_train, **fit_params)\n",
      "/home/anton/anaconda2/lib/python2.7/site-packages/sklearn/model_selection/_validation.py:528: DataConversionWarning: A column-vector y was passed when a 1d array was expected. Please change the shape of y to (n_samples,), for example using ravel().\n",
      "  estimator.fit(X_train, y_train, **fit_params)\n",
      "/home/anton/anaconda2/lib/python2.7/site-packages/sklearn/model_selection/_validation.py:528: DataConversionWarning: A column-vector y was passed when a 1d array was expected. Please change the shape of y to (n_samples,), for example using ravel().\n",
      "  estimator.fit(X_train, y_train, **fit_params)\n"
     ]
    },
    {
     "name": "stdout",
     "output_type": "stream",
     "text": [
      "On all CV: [0.81474565 0.69913891 0.77780468]\n",
      "Mean: 0.7638964139280886\n"
     ]
    }
   ],
   "source": [
    "Cross_Val_Score_(RFC, X, y)"
   ]
  },
  {
   "cell_type": "code",
   "execution_count": 137,
   "metadata": {},
   "outputs": [
    {
     "name": "stderr",
     "output_type": "stream",
     "text": [
      "/home/anton/anaconda2/lib/python2.7/site-packages/sklearn/utils/validation.py:761: DataConversionWarning: A column-vector y was passed when a 1d array was expected. Please change the shape of y to (n_samples, ), for example using ravel().\n",
      "  y = column_or_1d(y, warn=True)\n",
      "/home/anton/anaconda2/lib/python2.7/site-packages/sklearn/utils/validation.py:761: DataConversionWarning: A column-vector y was passed when a 1d array was expected. Please change the shape of y to (n_samples, ), for example using ravel().\n",
      "  y = column_or_1d(y, warn=True)\n",
      "/home/anton/anaconda2/lib/python2.7/site-packages/sklearn/utils/validation.py:761: DataConversionWarning: A column-vector y was passed when a 1d array was expected. Please change the shape of y to (n_samples, ), for example using ravel().\n",
      "  y = column_or_1d(y, warn=True)\n"
     ]
    },
    {
     "name": "stdout",
     "output_type": "stream",
     "text": [
      "Score on the model SGDClassifier(alpha=0.0001, average=False, class_weight='balanced',\n",
      "       early_stopping=False, epsilon=0.1, eta0=0.0, fit_intercept=True,\n",
      "       l1_ratio=0.15, learning_rate='optimal', loss='hinge', max_iter=3000,\n",
      "       n_iter=None, n_iter_no_change=5, n_jobs=None, penalty='elasticnet',\n",
      "       power_t=0.5, random_state=None, shuffle=True, tol=None,\n",
      "       validation_fraction=0.1, verbose=0, warm_start=False)\n",
      "\n",
      "On all CV: [0.96794273 0.05380918 0.67834417]\n",
      "Mean: 0.5666986933196081\n"
     ]
    }
   ],
   "source": [
    "Cross_Val_Score_(SGD, X, y)"
   ]
  },
  {
   "cell_type": "markdown",
   "metadata": {},
   "source": [
    "Обучим модель:"
   ]
  },
  {
   "cell_type": "code",
   "execution_count": 123,
   "metadata": {},
   "outputs": [
    {
     "name": "stderr",
     "output_type": "stream",
     "text": [
      "/home/anton/anaconda2/lib/python2.7/site-packages/ipykernel_launcher.py:1: DataConversionWarning: A column-vector y was passed when a 1d array was expected. Please change the shape of y to (n_samples,), for example using ravel().\n",
      "  \"\"\"Entry point for launching an IPython kernel.\n"
     ]
    },
    {
     "name": "stdout",
     "output_type": "stream",
     "text": [
      "0.7319933796125406\n",
      "0.7296711239609686\n",
      "0.7319193083573488\n"
     ]
    }
   ],
   "source": [
    "RFC.fit(X_,y)\n",
    "Are_You_Retrained(RFC, X_, y)"
   ]
  },
  {
   "cell_type": "code",
   "execution_count": 124,
   "metadata": {},
   "outputs": [
    {
     "name": "stderr",
     "output_type": "stream",
     "text": [
      "/home/anton/anaconda2/lib/python2.7/site-packages/sklearn/linear_model/stochastic_gradient.py:183: FutureWarning: max_iter and tol parameters have been added in SGDClassifier in 0.19. If max_iter is set but tol is left unset, the default value for tol in 0.19 and 0.20 will be None (which is equivalent to -infinity, so it has no effect) but will change in 0.21 to 1e-3. Specify tol to silence this warning.\n",
      "  FutureWarning)\n",
      "/home/anton/anaconda2/lib/python2.7/site-packages/sklearn/utils/validation.py:761: DataConversionWarning: A column-vector y was passed when a 1d array was expected. Please change the shape of y to (n_samples, ), for example using ravel().\n",
      "  y = column_or_1d(y, warn=True)\n"
     ]
    },
    {
     "name": "stdout",
     "output_type": "stream",
     "text": [
      "0.6122310467594633\n",
      "0.6404047705095771\n",
      "0.6131296829971181\n"
     ]
    }
   ],
   "source": [
    "SGD.fit(X_,y)\n",
    "Are_You_Retrained(SGD, X_, y)"
   ]
  },
  {
   "cell_type": "markdown",
   "metadata": {},
   "source": [
    "---"
   ]
  },
  {
   "cell_type": "markdown",
   "metadata": {},
   "source": [
    "Блок графиков для каждого часового пояса:"
   ]
  },
  {
   "cell_type": "markdown",
   "metadata": {},
   "source": [
    "$\\textbf{!!!!! Внимание !!!!!!}$"
   ]
  },
  {
   "cell_type": "markdown",
   "metadata": {},
   "source": [
    "arr_*, где * это часовой пояс. Все графики тоже в порядках часовах поясов. По оси Х номер ночи,\n",
    "по оси У доля правильных ответов алгоритма(чем больше - тем точнее алгоритм угадывает часовой пояс)\n",
    "8,9,10 поставлена метка местных, остальным метка приезжих"
   ]
  },
  {
   "cell_type": "code",
   "execution_count": 157,
   "metadata": {},
   "outputs": [],
   "source": [
    "arr_2 = Quantity_To_Everyday( RFC, df_for_class_control_2 )\n",
    "arr_3 = Quantity_To_Everyday( RFC, df_for_class_control_3 )\n",
    "arr_4 = Quantity_To_Everyday( RFC, df_for_class_control_4 )\n",
    "arr_5 = Quantity_To_Everyday( RFC, df_for_class_control_5 )\n",
    "arr_6 = Quantity_To_Everyday( RFC, df_for_class_control_6 )\n",
    "arr_7 = Quantity_To_Everyday( RFC, df_for_class_control_7 )\n",
    "arr_8 = Quantity_To_Everyday( RFC, df_for_class_control_8 )\n",
    "arr_9 = Quantity_To_Everyday( RFC, df_for_class_control_9 )\n",
    "arr_10 = Quantity_To_Everyday( RFC, df_for_class_control_10 )"
   ]
  },
  {
   "cell_type": "code",
   "execution_count": 158,
   "metadata": {},
   "outputs": [
    {
     "name": "stdout",
     "output_type": "stream",
     "text": [
      "[0.10526315789473684, 0.6052631578947368, 0.717948717948718, 0.2608695652173913, 0, 0.48554913294797686, 0.5, 0.6666666666666666, 0]\n",
      "[0.757469315245478, 0.7216847090663058, 0.7397951435176592, 0.7088037810870625, 0.7029424370609172, 0.7015212144308943, 0.6501544053171345, 0.5142867322217471, 0.6030475206611571]\n",
      "[0.7097715119105493, 0.7831509289895647, 0.6736627313802652, 0.6689445709946849, 0.6013839379324806, 0.6792341678939617, 0.6731777661248034, 0.43165899539723834, 0.5162565905096661]\n",
      "[0.6178411190287675, 0.7768095851074364, 0.7020594521080241, 0.6952987267384917, 0.7662183073443638, 0.7047554215695808, 0.6853907800896993, 0.5161672774304807, 0.2744630071599045]\n",
      "[0.633399209486166, 0.7243417517463729, 0.6697530864197531, 0.6791338582677166, 0.6743153219837158, 0.7191011235955056, 0.6476121562952243, 0.5858433734939759, 0.7874396135265701]\n",
      "[0.7115644217789111, 0.767162471395881, 0.7201604132680804, 0.706543753055381, 0.6599609375, 0.7417332513829134, 0.703311891978098, 0.6190768099062097, 0.6756658153958409]\n",
      "[0.22713297463489623, 0.244640605296343, 0.33635187580853815, 0.468999386126458, 0.41438211725010543, 0.35757397320771384, 0.4420607833577117, 0.6280441400304414, 0.8692461641094062]\n",
      "[0.24731182795698925, 0.301707779886148, 0.18727272727272729, 0.1967509025270758, 0.30344827586206896, 0.3795081967213115, 0.5107296137339056, 0.6374622356495468, 1.0]\n",
      "[0.358695652173913, 0.33609663666508766, 0.31626828398144846, 0.35815384615384616, 0.30861244019138756, 0.34704370179948585, 0.38820209621069607, 0.5568342776203966, 0.5566265060240964]\n"
     ]
    }
   ],
   "source": [
    "print arr_2; \n",
    "print arr_3; \n",
    "print arr_4; \n",
    "print arr_5; \n",
    "print arr_6; \n",
    "print arr_7; \n",
    "print arr_8; \n",
    "print arr_9; \n",
    "print arr_10"
   ]
  },
  {
   "cell_type": "code",
   "execution_count": 159,
   "metadata": {},
   "outputs": [
    {
     "data": {
      "text/plain": [
       "[<matplotlib.lines.Line2D at 0x7fedeaf95a10>]"
      ]
     },
     "execution_count": 159,
     "metadata": {},
     "output_type": "execute_result"
    },
    {
     "data": {
      "image/png": "[encoded data removed]",
      "text/plain": [
       "<Figure size 432x288 with 1 Axes>"
      ]
     },
     "metadata": {},
     "output_type": "display_data"
    }
   ],
   "source": [
    "plt.plot(arr_2)"
   ]
  },
  {
   "cell_type": "code",
   "execution_count": 160,
   "metadata": {},
   "outputs": [
    {
     "data": {
      "text/plain": [
       "[<matplotlib.lines.Line2D at 0x7fedeaee8690>]"
      ]
     },
     "execution_count": 160,
     "metadata": {},
     "output_type": "execute_result"
    },
    {
     "data": {
      "image/png": "[encoded data removed]",
      "text/plain": [
       "<Figure size 432x288 with 1 Axes>"
      ]
     },
     "metadata": {},
     "output_type": "display_data"
    }
   ],
   "source": [
    "plt.plot(arr_3)"
   ]
  },
  {
   "cell_type": "code",
   "execution_count": 161,
   "metadata": {},
   "outputs": [
    {
     "data": {
      "text/plain": [
       "[<matplotlib.lines.Line2D at 0x7fedeaed8250>]"
      ]
     },
     "execution_count": 161,
     "metadata": {},
     "output_type": "execute_result"
    },
    {
     "data": {
      "image/png": "[encoded data removed]",
      "text/plain": [
       "<Figure size 432x288 with 1 Axes>"
      ]
     },
     "metadata": {},
     "output_type": "display_data"
    }
   ],
   "source": [
    "plt.plot(arr_4)"
   ]
  },
  {
   "cell_type": "code",
   "execution_count": 162,
   "metadata": {},
   "outputs": [
    {
     "data": {
      "text/plain": [
       "[<matplotlib.lines.Line2D at 0x7fedeae42550>]"
      ]
     },
     "execution_count": 162,
     "metadata": {},
     "output_type": "execute_result"
    },
    {
     "data": {
      "image/png": "[encoded data removed]",
      "text/plain": [
       "<Figure size 432x288 with 1 Axes>"
      ]
     },
     "metadata": {},
     "output_type": "display_data"
    }
   ],
   "source": [
    "plt.plot(arr_5)"
   ]
  },
  {
   "cell_type": "code",
   "execution_count": 163,
   "metadata": {},
   "outputs": [
    {
     "data": {
      "text/plain": [
       "[<matplotlib.lines.Line2D at 0x7fedeadae0d0>]"
      ]
     },
     "execution_count": 163,
     "metadata": {},
     "output_type": "execute_result"
    },
    {
     "data": {
      "image/png": "[encoded data removed]",
      "text/plain": [
       "<Figure size 432x288 with 1 Axes>"
      ]
     },
     "metadata": {},
     "output_type": "display_data"
    }
   ],
   "source": [
    "plt.plot(arr_6)"
   ]
  },
  {
   "cell_type": "code",
   "execution_count": 164,
   "metadata": {},
   "outputs": [
    {
     "data": {
      "text/plain": [
       "[<matplotlib.lines.Line2D at 0x7fedead9a3d0>]"
      ]
     },
     "execution_count": 164,
     "metadata": {},
     "output_type": "execute_result"
    },
    {
     "data": {
      "image/png": "[encoded data removed]",
      "text/plain": [
       "<Figure size 432x288 with 1 Axes>"
      ]
     },
     "metadata": {},
     "output_type": "display_data"
    }
   ],
   "source": [
    "plt.plot(arr_7)"
   ]
  },
  {
   "cell_type": "code",
   "execution_count": 165,
   "metadata": {},
   "outputs": [
    {
     "data": {
      "text/plain": [
       "[<matplotlib.lines.Line2D at 0x7fedead0b6d0>]"
      ]
     },
     "execution_count": 165,
     "metadata": {},
     "output_type": "execute_result"
    },
    {
     "data": {
      "image/png": "[encoded data removed]",
      "text/plain": [
       "<Figure size 432x288 with 1 Axes>"
      ]
     },
     "metadata": {},
     "output_type": "display_data"
    }
   ],
   "source": [
    "plt.plot(arr_8)"
   ]
  },
  {
   "cell_type": "code",
   "execution_count": 166,
   "metadata": {},
   "outputs": [
    {
     "data": {
      "text/plain": [
       "[<matplotlib.lines.Line2D at 0x7fedeac7b9d0>]"
      ]
     },
     "execution_count": 166,
     "metadata": {},
     "output_type": "execute_result"
    },
    {
     "data": {
      "image/png": "[encoded data removed]",
      "text/plain": [
       "<Figure size 432x288 with 1 Axes>"
      ]
     },
     "metadata": {},
     "output_type": "display_data"
    }
   ],
   "source": [
    "plt.plot(arr_9)"
   ]
  },
  {
   "cell_type": "code",
   "execution_count": 167,
   "metadata": {},
   "outputs": [
    {
     "data": {
      "text/plain": [
       "[<matplotlib.lines.Line2D at 0x7fedeabec550>]"
      ]
     },
     "execution_count": 167,
     "metadata": {},
     "output_type": "execute_result"
    },
    {
     "data": {
      "image/png": "[encoded data removed]",
      "text/plain": [
       "<Figure size 432x288 with 1 Axes>"
      ]
     },
     "metadata": {},
     "output_type": "display_data"
    }
   ],
   "source": [
    "plt.plot(arr_10)"
   ]
  },
  {
   "cell_type": "markdown",
   "metadata": {},
   "source": [
    "Ну что я могу сказать: вроде бы закономерность есть, но что-то кажется, что это очень страненькое( "
   ]
  },
  {
   "cell_type": "markdown",
   "metadata": {},
   "source": [
    "---"
   ]
  },
  {
   "cell_type": "markdown",
   "metadata": {},
   "source": [
    "Далее попробуем обучится на всех людях из 10 часового пояса и из 3 подобрать людей максимально похожих по возрасту и полу:"
   ]
  },
  {
   "cell_type": "code",
   "execution_count": 172,
   "metadata": {},
   "outputs": [],
   "source": [
    "df_Users_data = pd.read_csv('Good_UsersData.csv')"
   ]
  },
  {
   "cell_type": "code",
   "execution_count": 180,
   "metadata": {},
   "outputs": [
    {
     "data": {
      "text/html": [
       "<div>\n",
       "<style scoped>\n",
       "    .dataframe tbody tr th:only-of-type {\n",
       "        vertical-align: middle;\n",
       "    }\n",
       "\n",
       "    .dataframe tbody tr th {\n",
       "        vertical-align: top;\n",
       "    }\n",
       "\n",
       "    .dataframe thead th {\n",
       "        text-align: right;\n",
       "    }\n",
       "</style>\n",
       "<table border=\"1\" class=\"dataframe\">\n",
       "  <thead>\n",
       "    <tr style=\"text-align: right;\">\n",
       "      <th></th>\n",
       "      <th>1xFOhgzYEZU</th>\n",
       "      <th>unti_id</th>\n",
       "      <th>FirstName</th>\n",
       "      <th>LastName</th>\n",
       "      <th>PostIndex</th>\n",
       "      <th>City</th>\n",
       "      <th>Region</th>\n",
       "      <th>Timezone</th>\n",
       "      <th>Sex</th>\n",
       "      <th>Age</th>\n",
       "    </tr>\n",
       "  </thead>\n",
       "  <tbody>\n",
       "    <tr>\n",
       "      <th>9</th>\n",
       "      <td>sashanka</td>\n",
       "      <td>10528</td>\n",
       "      <td>Александра</td>\n",
       "      <td>Агаркова</td>\n",
       "      <td>690014.0</td>\n",
       "      <td>ВЛАДИВОСТОК</td>\n",
       "      <td>ПРИМОРСКИЙ КРАЙ</td>\n",
       "      <td>10.0</td>\n",
       "      <td>female</td>\n",
       "      <td>44</td>\n",
       "    </tr>\n",
       "    <tr>\n",
       "      <th>28</th>\n",
       "      <td>nastya0000-96</td>\n",
       "      <td>17111</td>\n",
       "      <td>Анастасия</td>\n",
       "      <td>Анкудинова</td>\n",
       "      <td>690002.0</td>\n",
       "      <td>ВЛАДИВОСТОК</td>\n",
       "      <td>ПРИМОРСКИЙ КРАЙ</td>\n",
       "      <td>10.0</td>\n",
       "      <td>female</td>\n",
       "      <td>21</td>\n",
       "    </tr>\n",
       "    <tr>\n",
       "      <th>77</th>\n",
       "      <td>onbenderskaya</td>\n",
       "      <td>14579</td>\n",
       "      <td>Ольга</td>\n",
       "      <td>Бендерская</td>\n",
       "      <td>680000.0</td>\n",
       "      <td>ХАБАРОВСК</td>\n",
       "      <td>ХАБАРОВСКИЙ КРАЙ</td>\n",
       "      <td>10.0</td>\n",
       "      <td>female</td>\n",
       "      <td>39</td>\n",
       "    </tr>\n",
       "    <tr>\n",
       "      <th>82</th>\n",
       "      <td>bobovskayaus</td>\n",
       "      <td>15427</td>\n",
       "      <td>Ульяна</td>\n",
       "      <td>Бобовская</td>\n",
       "      <td>680015.0</td>\n",
       "      <td>ХАБАРОВСК</td>\n",
       "      <td>ХАБАРОВСКИЙ КРАЙ</td>\n",
       "      <td>10.0</td>\n",
       "      <td>female</td>\n",
       "      <td>34</td>\n",
       "    </tr>\n",
       "    <tr>\n",
       "      <th>91</th>\n",
       "      <td>boldurev16</td>\n",
       "      <td>11142</td>\n",
       "      <td>Владислав</td>\n",
       "      <td>Болдырев</td>\n",
       "      <td>681024.0</td>\n",
       "      <td>КОМСОМОЛЬСК-НА-АМУРЕ</td>\n",
       "      <td>ХАБАРОВСКИЙ КРАЙ</td>\n",
       "      <td>10.0</td>\n",
       "      <td>male</td>\n",
       "      <td>26</td>\n",
       "    </tr>\n",
       "    <tr>\n",
       "      <th>119</th>\n",
       "      <td>vershinindim</td>\n",
       "      <td>15420</td>\n",
       "      <td>Дмитрий</td>\n",
       "      <td>Вершинин</td>\n",
       "      <td>690000.0</td>\n",
       "      <td>ВЛАДИВОСТОК</td>\n",
       "      <td>ПРИМОРСКИЙ КРАЙ</td>\n",
       "      <td>10.0</td>\n",
       "      <td>male</td>\n",
       "      <td>27</td>\n",
       "    </tr>\n",
       "    <tr>\n",
       "      <th>129</th>\n",
       "      <td>vorontsovaea</td>\n",
       "      <td>10483</td>\n",
       "      <td>Евгения</td>\n",
       "      <td>Воронцова</td>\n",
       "      <td>690000.0</td>\n",
       "      <td>ВЛАДИВОСТОК</td>\n",
       "      <td>ПРИМОРСКИЙ КРАЙ</td>\n",
       "      <td>10.0</td>\n",
       "      <td>female</td>\n",
       "      <td>35</td>\n",
       "    </tr>\n",
       "    <tr>\n",
       "      <th>170</th>\n",
       "      <td>egoryachenko</td>\n",
       "      <td>12661</td>\n",
       "      <td>Екатерина</td>\n",
       "      <td>Горяченко</td>\n",
       "      <td>690000.0</td>\n",
       "      <td>ВЛАДИВОСТОК</td>\n",
       "      <td>ПРИМОРСКИЙ КРАЙ</td>\n",
       "      <td>10.0</td>\n",
       "      <td>female</td>\n",
       "      <td>41</td>\n",
       "    </tr>\n",
       "    <tr>\n",
       "      <th>190</th>\n",
       "      <td>oguseva</td>\n",
       "      <td>19473</td>\n",
       "      <td>Ольга</td>\n",
       "      <td>Гусева</td>\n",
       "      <td>680000.0</td>\n",
       "      <td>ХАБАРОВСК</td>\n",
       "      <td>ХАБАРОВСКИЙ КРАЙ</td>\n",
       "      <td>10.0</td>\n",
       "      <td>female</td>\n",
       "      <td>38</td>\n",
       "    </tr>\n",
       "    <tr>\n",
       "      <th>232</th>\n",
       "      <td>kirillerukov</td>\n",
       "      <td>13648</td>\n",
       "      <td>Кирилл</td>\n",
       "      <td>Еруков</td>\n",
       "      <td>690000.0</td>\n",
       "      <td>ВЛАДИВОСТОК</td>\n",
       "      <td>ПРИМОРСКИЙ КРАЙ</td>\n",
       "      <td>10.0</td>\n",
       "      <td>male</td>\n",
       "      <td>31</td>\n",
       "    </tr>\n",
       "    <tr>\n",
       "      <th>265</th>\n",
       "      <td>zuevsergej</td>\n",
       "      <td>10126</td>\n",
       "      <td>Сергей</td>\n",
       "      <td>Зуев</td>\n",
       "      <td>690087.0</td>\n",
       "      <td>ВЛАДИВОСТОК</td>\n",
       "      <td>ПРИМОРСКИЙ КРАЙ</td>\n",
       "      <td>10.0</td>\n",
       "      <td>male</td>\n",
       "      <td>48</td>\n",
       "    </tr>\n",
       "    <tr>\n",
       "      <th>269</th>\n",
       "      <td>risha20</td>\n",
       "      <td>11260</td>\n",
       "      <td>Маргарита</td>\n",
       "      <td>Ибрагимова</td>\n",
       "      <td>690080.0</td>\n",
       "      <td>ВЛАДИВОСТОК</td>\n",
       "      <td>ПРИМОРСКИЙ КРАЙ</td>\n",
       "      <td>10.0</td>\n",
       "      <td>female</td>\n",
       "      <td>32</td>\n",
       "    </tr>\n",
       "    <tr>\n",
       "      <th>322</th>\n",
       "      <td>klyuevfeu</td>\n",
       "      <td>13713</td>\n",
       "      <td>Андрей</td>\n",
       "      <td>Клюев</td>\n",
       "      <td>680000.0</td>\n",
       "      <td>ХАБАРОВСК</td>\n",
       "      <td>ХАБАРОВСКИЙ КРАЙ</td>\n",
       "      <td>10.0</td>\n",
       "      <td>male</td>\n",
       "      <td>39</td>\n",
       "    </tr>\n",
       "    <tr>\n",
       "      <th>332</th>\n",
       "      <td>igorindeep</td>\n",
       "      <td>10159</td>\n",
       "      <td>Игорь</td>\n",
       "      <td>Кожурин</td>\n",
       "      <td>690000.0</td>\n",
       "      <td>ВЛАДИВОСТОК</td>\n",
       "      <td>ПРИМОРСКИЙ КРАЙ</td>\n",
       "      <td>10.0</td>\n",
       "      <td>male</td>\n",
       "      <td>28</td>\n",
       "    </tr>\n",
       "    <tr>\n",
       "      <th>370</th>\n",
       "      <td>nvk74</td>\n",
       "      <td>12660</td>\n",
       "      <td>Надежда</td>\n",
       "      <td>Котельникова</td>\n",
       "      <td>690000.0</td>\n",
       "      <td>ВЛАДИВОСТОК</td>\n",
       "      <td>ПРИМОРСКИЙ КРАЙ</td>\n",
       "      <td>10.0</td>\n",
       "      <td>female</td>\n",
       "      <td>44</td>\n",
       "    </tr>\n",
       "    <tr>\n",
       "      <th>372</th>\n",
       "      <td>lkotova</td>\n",
       "      <td>12384</td>\n",
       "      <td>Людмила</td>\n",
       "      <td>Котова</td>\n",
       "      <td>680000.0</td>\n",
       "      <td>ХАБАРОВСК</td>\n",
       "      <td>ХАБАРОВСКИЙ КРАЙ</td>\n",
       "      <td>10.0</td>\n",
       "      <td>female</td>\n",
       "      <td>58</td>\n",
       "    </tr>\n",
       "    <tr>\n",
       "      <th>397</th>\n",
       "      <td>kulivan</td>\n",
       "      <td>14914</td>\n",
       "      <td>Иван</td>\n",
       "      <td>Кулик</td>\n",
       "      <td>680000.0</td>\n",
       "      <td>ХАБАРОВСК</td>\n",
       "      <td>ХАБАРОВСКИЙ КРАЙ</td>\n",
       "      <td>10.0</td>\n",
       "      <td>male</td>\n",
       "      <td>40</td>\n",
       "    </tr>\n",
       "    <tr>\n",
       "      <th>398</th>\n",
       "      <td>kulikovop</td>\n",
       "      <td>14637</td>\n",
       "      <td>Олег</td>\n",
       "      <td>Куликов</td>\n",
       "      <td>680000.0</td>\n",
       "      <td>ХАБАРОВСК</td>\n",
       "      <td>ХАБАРОВСКИЙ КРАЙ</td>\n",
       "      <td>10.0</td>\n",
       "      <td>male</td>\n",
       "      <td>30</td>\n",
       "    </tr>\n",
       "    <tr>\n",
       "      <th>403</th>\n",
       "      <td>akuminov</td>\n",
       "      <td>14938</td>\n",
       "      <td>Андрей</td>\n",
       "      <td>Куминов</td>\n",
       "      <td>680000.0</td>\n",
       "      <td>ХАБАРОВСК</td>\n",
       "      <td>ХАБАРОВСКИЙ КРАЙ</td>\n",
       "      <td>10.0</td>\n",
       "      <td>male</td>\n",
       "      <td>41</td>\n",
       "    </tr>\n",
       "    <tr>\n",
       "      <th>407</th>\n",
       "      <td>mrkuranton</td>\n",
       "      <td>12728</td>\n",
       "      <td>Антон</td>\n",
       "      <td>Курашкевич</td>\n",
       "      <td>690039.0</td>\n",
       "      <td>ВЛАДИВОСТОК</td>\n",
       "      <td>ПРИМОРСКИЙ КРАЙ</td>\n",
       "      <td>10.0</td>\n",
       "      <td>male</td>\n",
       "      <td>16</td>\n",
       "    </tr>\n",
       "    <tr>\n",
       "      <th>416</th>\n",
       "      <td>larionovava</td>\n",
       "      <td>11347</td>\n",
       "      <td>Вероника</td>\n",
       "      <td>Ларионова</td>\n",
       "      <td>690000.0</td>\n",
       "      <td>ВЛАДИВОСТОК</td>\n",
       "      <td>ПРИМОРСКИЙ КРАЙ</td>\n",
       "      <td>10.0</td>\n",
       "      <td>female</td>\n",
       "      <td>25</td>\n",
       "    </tr>\n",
       "    <tr>\n",
       "      <th>479</th>\n",
       "      <td>marketologmaks</td>\n",
       "      <td>13228</td>\n",
       "      <td>Максим</td>\n",
       "      <td>Матохин</td>\n",
       "      <td>690000.0</td>\n",
       "      <td>ВЛАДИВОСТОК</td>\n",
       "      <td>ПРИМОРСКИЙ КРАЙ</td>\n",
       "      <td>10.0</td>\n",
       "      <td>male</td>\n",
       "      <td>35</td>\n",
       "    </tr>\n",
       "    <tr>\n",
       "      <th>507</th>\n",
       "      <td>amoskvinkhv</td>\n",
       "      <td>19467</td>\n",
       "      <td>Артём</td>\n",
       "      <td>Москвин</td>\n",
       "      <td>680000.0</td>\n",
       "      <td>ХАБАРОВСК</td>\n",
       "      <td>ХАБАРОВСКИЙ КРАЙ</td>\n",
       "      <td>10.0</td>\n",
       "      <td>male</td>\n",
       "      <td>30</td>\n",
       "    </tr>\n",
       "    <tr>\n",
       "      <th>546</th>\n",
       "      <td>ognevav</td>\n",
       "      <td>10577</td>\n",
       "      <td>Алексей</td>\n",
       "      <td>Огнев</td>\n",
       "      <td>692519.0</td>\n",
       "      <td>УССУРИЙСК</td>\n",
       "      <td>ПРИМОРСКИЙ КРАЙ</td>\n",
       "      <td>10.0</td>\n",
       "      <td>male</td>\n",
       "      <td>40</td>\n",
       "    </tr>\n",
       "    <tr>\n",
       "      <th>555</th>\n",
       "      <td>nastena88</td>\n",
       "      <td>16746</td>\n",
       "      <td>Анастасия</td>\n",
       "      <td>Осипова</td>\n",
       "      <td>690000.0</td>\n",
       "      <td>ВЛАДИВОСТОК</td>\n",
       "      <td>ПРИМОРСКИЙ КРАЙ</td>\n",
       "      <td>10.0</td>\n",
       "      <td>female</td>\n",
       "      <td>30</td>\n",
       "    </tr>\n",
       "    <tr>\n",
       "      <th>655</th>\n",
       "      <td>anton</td>\n",
       "      <td>10401</td>\n",
       "      <td>Антон</td>\n",
       "      <td>Самбуров</td>\n",
       "      <td>690000.0</td>\n",
       "      <td>ВЛАДИВОСТОК</td>\n",
       "      <td>ПРИМОРСКИЙ КРАЙ</td>\n",
       "      <td>10.0</td>\n",
       "      <td>male</td>\n",
       "      <td>44</td>\n",
       "    </tr>\n",
       "    <tr>\n",
       "      <th>729</th>\n",
       "      <td>nnstrelov</td>\n",
       "      <td>13529</td>\n",
       "      <td>Николай</td>\n",
       "      <td>Стрелов</td>\n",
       "      <td>680000.0</td>\n",
       "      <td>ХАБАРОВСК</td>\n",
       "      <td>ХАБАРОВСКИЙ КРАЙ</td>\n",
       "      <td>10.0</td>\n",
       "      <td>male</td>\n",
       "      <td>28</td>\n",
       "    </tr>\n",
       "    <tr>\n",
       "      <th>748</th>\n",
       "      <td>ugene_ten</td>\n",
       "      <td>12363</td>\n",
       "      <td>Евгений</td>\n",
       "      <td>Тен</td>\n",
       "      <td>680000.0</td>\n",
       "      <td>ХАБАРОВСК</td>\n",
       "      <td>ХАБАРОВСКИЙ КРАЙ</td>\n",
       "      <td>10.0</td>\n",
       "      <td>male</td>\n",
       "      <td>35</td>\n",
       "    </tr>\n",
       "    <tr>\n",
       "      <th>770</th>\n",
       "      <td>tyurinaea</td>\n",
       "      <td>12154</td>\n",
       "      <td>Елена</td>\n",
       "      <td>Тюрина</td>\n",
       "      <td>690000.0</td>\n",
       "      <td>ВЛАДИВОСТОК</td>\n",
       "      <td>ПРИМОРСКИЙ КРАЙ</td>\n",
       "      <td>10.0</td>\n",
       "      <td>female</td>\n",
       "      <td>45</td>\n",
       "    </tr>\n",
       "    <tr>\n",
       "      <th>773</th>\n",
       "      <td>duzium</td>\n",
       "      <td>16733</td>\n",
       "      <td>Дмитрий</td>\n",
       "      <td>Узюм</td>\n",
       "      <td>690066.0</td>\n",
       "      <td>ВЛАДИВОСТОК</td>\n",
       "      <td>ПРИМОРСКИЙ КРАЙ</td>\n",
       "      <td>10.0</td>\n",
       "      <td>male</td>\n",
       "      <td>39</td>\n",
       "    </tr>\n",
       "    <tr>\n",
       "      <th>795</th>\n",
       "      <td>staskhv</td>\n",
       "      <td>10538</td>\n",
       "      <td>Станислав</td>\n",
       "      <td>Хвостов</td>\n",
       "      <td>680000.0</td>\n",
       "      <td>ХАБАРОВСК</td>\n",
       "      <td>ХАБАРОВСКИЙ КРАЙ</td>\n",
       "      <td>10.0</td>\n",
       "      <td>male</td>\n",
       "      <td>31</td>\n",
       "    </tr>\n",
       "    <tr>\n",
       "      <th>852</th>\n",
       "      <td>reserv</td>\n",
       "      <td>10652</td>\n",
       "      <td>Евгений</td>\n",
       "      <td>Шкарупа</td>\n",
       "      <td>690000.0</td>\n",
       "      <td>ВЛАДИВОСТОК</td>\n",
       "      <td>ПРИМОРСКИЙ КРАЙ</td>\n",
       "      <td>10.0</td>\n",
       "      <td>male</td>\n",
       "      <td>33</td>\n",
       "    </tr>\n",
       "    <tr>\n",
       "      <th>864</th>\n",
       "      <td>swettyhelgafilippova</td>\n",
       "      <td>16427</td>\n",
       "      <td>Ольга</td>\n",
       "      <td>Юрина</td>\n",
       "      <td>690000.0</td>\n",
       "      <td>ВЛАДИВОСТОК</td>\n",
       "      <td>ПРИМОРСКИЙ КРАЙ</td>\n",
       "      <td>10.0</td>\n",
       "      <td>female</td>\n",
       "      <td>32</td>\n",
       "    </tr>\n",
       "  </tbody>\n",
       "</table>\n",
       "</div>"
      ],
      "text/plain": [
       "              1xFOhgzYEZU unti_id   FirstName      LastName  PostIndex  \\\n",
       "9                sashanka   10528  Александра      Агаркова   690014.0   \n",
       "28          nastya0000-96   17111   Анастасия    Анкудинова   690002.0   \n",
       "77          onbenderskaya   14579       Ольга    Бендерская   680000.0   \n",
       "82           bobovskayaus   15427      Ульяна     Бобовская   680015.0   \n",
       "91             boldurev16   11142   Владислав      Болдырев   681024.0   \n",
       "119          vershinindim   15420     Дмитрий      Вершинин   690000.0   \n",
       "129          vorontsovaea   10483     Евгения     Воронцова   690000.0   \n",
       "170          egoryachenko   12661   Екатерина     Горяченко   690000.0   \n",
       "190               oguseva   19473       Ольга        Гусева   680000.0   \n",
       "232          kirillerukov   13648      Кирилл        Еруков   690000.0   \n",
       "265            zuevsergej   10126      Сергей          Зуев   690087.0   \n",
       "269               risha20   11260   Маргарита    Ибрагимова   690080.0   \n",
       "322             klyuevfeu   13713      Андрей         Клюев   680000.0   \n",
       "332            igorindeep   10159       Игорь       Кожурин   690000.0   \n",
       "370                 nvk74   12660     Надежда  Котельникова   690000.0   \n",
       "372               lkotova   12384     Людмила        Котова   680000.0   \n",
       "397               kulivan   14914        Иван         Кулик   680000.0   \n",
       "398             kulikovop   14637        Олег       Куликов   680000.0   \n",
       "403              akuminov   14938      Андрей       Куминов   680000.0   \n",
       "407            mrkuranton   12728       Антон    Курашкевич   690039.0   \n",
       "416           larionovava   11347    Вероника     Ларионова   690000.0   \n",
       "479        marketologmaks   13228      Максим       Матохин   690000.0   \n",
       "507           amoskvinkhv   19467       Артём       Москвин   680000.0   \n",
       "546               ognevav   10577     Алексей         Огнев   692519.0   \n",
       "555             nastena88   16746   Анастасия       Осипова   690000.0   \n",
       "655                 anton   10401       Антон      Самбуров   690000.0   \n",
       "729             nnstrelov   13529     Николай       Стрелов   680000.0   \n",
       "748             ugene_ten   12363     Евгений           Тен   680000.0   \n",
       "770             tyurinaea   12154       Елена        Тюрина   690000.0   \n",
       "773                duzium   16733     Дмитрий          Узюм   690066.0   \n",
       "795               staskhv   10538   Станислав       Хвостов   680000.0   \n",
       "852                reserv   10652     Евгений       Шкарупа   690000.0   \n",
       "864  swettyhelgafilippova   16427       Ольга         Юрина   690000.0   \n",
       "\n",
       "                     City            Region  Timezone     Sex Age  \n",
       "9             ВЛАДИВОСТОК   ПРИМОРСКИЙ КРАЙ      10.0  female  44  \n",
       "28            ВЛАДИВОСТОК   ПРИМОРСКИЙ КРАЙ      10.0  female  21  \n",
       "77              ХАБАРОВСК  ХАБАРОВСКИЙ КРАЙ      10.0  female  39  \n",
       "82              ХАБАРОВСК  ХАБАРОВСКИЙ КРАЙ      10.0  female  34  \n",
       "91   КОМСОМОЛЬСК-НА-АМУРЕ  ХАБАРОВСКИЙ КРАЙ      10.0    male  26  \n",
       "119           ВЛАДИВОСТОК   ПРИМОРСКИЙ КРАЙ      10.0    male  27  \n",
       "129           ВЛАДИВОСТОК   ПРИМОРСКИЙ КРАЙ      10.0  female  35  \n",
       "170           ВЛАДИВОСТОК   ПРИМОРСКИЙ КРАЙ      10.0  female  41  \n",
       "190             ХАБАРОВСК  ХАБАРОВСКИЙ КРАЙ      10.0  female  38  \n",
       "232           ВЛАДИВОСТОК   ПРИМОРСКИЙ КРАЙ      10.0    male  31  \n",
       "265           ВЛАДИВОСТОК   ПРИМОРСКИЙ КРАЙ      10.0    male  48  \n",
       "269           ВЛАДИВОСТОК   ПРИМОРСКИЙ КРАЙ      10.0  female  32  \n",
       "322             ХАБАРОВСК  ХАБАРОВСКИЙ КРАЙ      10.0    male  39  \n",
       "332           ВЛАДИВОСТОК   ПРИМОРСКИЙ КРАЙ      10.0    male  28  \n",
       "370           ВЛАДИВОСТОК   ПРИМОРСКИЙ КРАЙ      10.0  female  44  \n",
       "372             ХАБАРОВСК  ХАБАРОВСКИЙ КРАЙ      10.0  female  58  \n",
       "397             ХАБАРОВСК  ХАБАРОВСКИЙ КРАЙ      10.0    male  40  \n",
       "398             ХАБАРОВСК  ХАБАРОВСКИЙ КРАЙ      10.0    male  30  \n",
       "403             ХАБАРОВСК  ХАБАРОВСКИЙ КРАЙ      10.0    male  41  \n",
       "407           ВЛАДИВОСТОК   ПРИМОРСКИЙ КРАЙ      10.0    male  16  \n",
       "416           ВЛАДИВОСТОК   ПРИМОРСКИЙ КРАЙ      10.0  female  25  \n",
       "479           ВЛАДИВОСТОК   ПРИМОРСКИЙ КРАЙ      10.0    male  35  \n",
       "507             ХАБАРОВСК  ХАБАРОВСКИЙ КРАЙ      10.0    male  30  \n",
       "546             УССУРИЙСК   ПРИМОРСКИЙ КРАЙ      10.0    male  40  \n",
       "555           ВЛАДИВОСТОК   ПРИМОРСКИЙ КРАЙ      10.0  female  30  \n",
       "655           ВЛАДИВОСТОК   ПРИМОРСКИЙ КРАЙ      10.0    male  44  \n",
       "729             ХАБАРОВСК  ХАБАРОВСКИЙ КРАЙ      10.0    male  28  \n",
       "748             ХАБАРОВСК  ХАБАРОВСКИЙ КРАЙ      10.0    male  35  \n",
       "770           ВЛАДИВОСТОК   ПРИМОРСКИЙ КРАЙ      10.0  female  45  \n",
       "773           ВЛАДИВОСТОК   ПРИМОРСКИЙ КРАЙ      10.0    male  39  \n",
       "795             ХАБАРОВСК  ХАБАРОВСКИЙ КРАЙ      10.0    male  31  \n",
       "852           ВЛАДИВОСТОК   ПРИМОРСКИЙ КРАЙ      10.0    male  33  \n",
       "864           ВЛАДИВОСТОК   ПРИМОРСКИЙ КРАЙ      10.0  female  32  "
      ]
     },
     "execution_count": 180,
     "metadata": {},
     "output_type": "execute_result"
    }
   ],
   "source": [
    "df_Users_data.loc[df_Users_data.Timezone == 10]"
   ]
  },
  {
   "cell_type": "code",
   "execution_count": 178,
   "metadata": {},
   "outputs": [
    {
     "data": {
      "text/html": [
       "<div>\n",
       "<style scoped>\n",
       "    .dataframe tbody tr th:only-of-type {\n",
       "        vertical-align: middle;\n",
       "    }\n",
       "\n",
       "    .dataframe tbody tr th {\n",
       "        vertical-align: top;\n",
       "    }\n",
       "\n",
       "    .dataframe thead th {\n",
       "        text-align: right;\n",
       "    }\n",
       "</style>\n",
       "<table border=\"1\" class=\"dataframe\">\n",
       "  <thead>\n",
       "    <tr style=\"text-align: right;\">\n",
       "      <th></th>\n",
       "      <th>1xFOhgzYEZU</th>\n",
       "      <th>unti_id</th>\n",
       "      <th>FirstName</th>\n",
       "      <th>LastName</th>\n",
       "      <th>PostIndex</th>\n",
       "      <th>City</th>\n",
       "      <th>Region</th>\n",
       "      <th>Timezone</th>\n",
       "      <th>Sex</th>\n",
       "      <th>Age</th>\n",
       "    </tr>\n",
       "  </thead>\n",
       "  <tbody>\n",
       "    <tr>\n",
       "      <th>27</th>\n",
       "      <td>nandronova</td>\n",
       "      <td>12783</td>\n",
       "      <td>Наталья</td>\n",
       "      <td>Андронова</td>\n",
       "      <td>101000.0</td>\n",
       "      <td>МОСКВА</td>\n",
       "      <td>МОСКВА</td>\n",
       "      <td>3.0</td>\n",
       "      <td>female</td>\n",
       "      <td>44</td>\n",
       "    </tr>\n",
       "    <tr>\n",
       "      <th>56</th>\n",
       "      <td>aSpNXjaYEhn</td>\n",
       "      <td>15789</td>\n",
       "      <td>Алексей</td>\n",
       "      <td>Барышкин</td>\n",
       "      <td>190000.0</td>\n",
       "      <td>САНКТ-ПЕТЕРБУРГ</td>\n",
       "      <td>САНКТ-ПЕТЕРБУРГ</td>\n",
       "      <td>3.0</td>\n",
       "      <td>male</td>\n",
       "      <td>44</td>\n",
       "    </tr>\n",
       "    <tr>\n",
       "      <th>101</th>\n",
       "      <td>bskan</td>\n",
       "      <td>14948</td>\n",
       "      <td>Сергей</td>\n",
       "      <td>Бочаров</td>\n",
       "      <td>603163.0</td>\n",
       "      <td>НИЖНИЙ-НОВГОРОД</td>\n",
       "      <td>НИЖЕГОРОДСКАЯ ОБЛАСТЬ</td>\n",
       "      <td>3.0</td>\n",
       "      <td>male</td>\n",
       "      <td>44</td>\n",
       "    </tr>\n",
       "    <tr>\n",
       "      <th>174</th>\n",
       "      <td>m_grebennikov</td>\n",
       "      <td>12785</td>\n",
       "      <td>Максим</td>\n",
       "      <td>Гребенников</td>\n",
       "      <td>101000.0</td>\n",
       "      <td>МОСКВА</td>\n",
       "      <td>МОСКВА</td>\n",
       "      <td>3.0</td>\n",
       "      <td>male</td>\n",
       "      <td>44</td>\n",
       "    </tr>\n",
       "    <tr>\n",
       "      <th>248</th>\n",
       "      <td>autist2000</td>\n",
       "      <td>16103</td>\n",
       "      <td>Жан</td>\n",
       "      <td>Загидуллин</td>\n",
       "      <td>101000.0</td>\n",
       "      <td>МОСКВА</td>\n",
       "      <td>МОСКВА</td>\n",
       "      <td>3.0</td>\n",
       "      <td>male</td>\n",
       "      <td>44</td>\n",
       "    </tr>\n",
       "    <tr>\n",
       "      <th>276</th>\n",
       "      <td>idmi</td>\n",
       "      <td>12948</td>\n",
       "      <td>Дмитрий</td>\n",
       "      <td>Иванченко</td>\n",
       "      <td>142400.0</td>\n",
       "      <td>НОГИНСК</td>\n",
       "      <td>МОСКОВСКАЯ ОБЛАСТЬ</td>\n",
       "      <td>3.0</td>\n",
       "      <td>male</td>\n",
       "      <td>44</td>\n",
       "    </tr>\n",
       "    <tr>\n",
       "      <th>520</th>\n",
       "      <td>alexandernatalchenko</td>\n",
       "      <td>17476</td>\n",
       "      <td>Александр</td>\n",
       "      <td>Натальченко</td>\n",
       "      <td>350049.0</td>\n",
       "      <td>КРАСНОДАР</td>\n",
       "      <td>КРАСНОДАРСКИЙ КРАЙ</td>\n",
       "      <td>3.0</td>\n",
       "      <td>male</td>\n",
       "      <td>44</td>\n",
       "    </tr>\n",
       "    <tr>\n",
       "      <th>590</th>\n",
       "      <td>npZokUOTqrVD</td>\n",
       "      <td>67</td>\n",
       "      <td>Наталья</td>\n",
       "      <td>Подсосонная</td>\n",
       "      <td>101000.0</td>\n",
       "      <td>МОСКВА</td>\n",
       "      <td>МОСКВА</td>\n",
       "      <td>3.0</td>\n",
       "      <td>female</td>\n",
       "      <td>44</td>\n",
       "    </tr>\n",
       "    <tr>\n",
       "      <th>784</th>\n",
       "      <td>irinafilipova</td>\n",
       "      <td>11099</td>\n",
       "      <td>Ирина</td>\n",
       "      <td>Филипова</td>\n",
       "      <td>603087.0</td>\n",
       "      <td>НИЖНИЙ-НОВГОРОД</td>\n",
       "      <td>НИЖЕГОРОДСКАЯ ОБЛАСТЬ</td>\n",
       "      <td>3.0</td>\n",
       "      <td>female</td>\n",
       "      <td>44</td>\n",
       "    </tr>\n",
       "  </tbody>\n",
       "</table>\n",
       "</div>"
      ],
      "text/plain": [
       "              1xFOhgzYEZU unti_id  FirstName     LastName  PostIndex  \\\n",
       "27             nandronova   12783    Наталья    Андронова   101000.0   \n",
       "56            aSpNXjaYEhn   15789    Алексей     Барышкин   190000.0   \n",
       "101                 bskan   14948     Сергей      Бочаров   603163.0   \n",
       "174         m_grebennikov   12785     Максим  Гребенников   101000.0   \n",
       "248            autist2000   16103        Жан   Загидуллин   101000.0   \n",
       "276                  idmi   12948    Дмитрий    Иванченко   142400.0   \n",
       "520  alexandernatalchenko   17476  Александр  Натальченко   350049.0   \n",
       "590          npZokUOTqrVD      67    Наталья  Подсосонная   101000.0   \n",
       "784         irinafilipova   11099      Ирина     Филипова   603087.0   \n",
       "\n",
       "                City                 Region  Timezone     Sex Age  \n",
       "27            МОСКВА                 МОСКВА       3.0  female  44  \n",
       "56   САНКТ-ПЕТЕРБУРГ        САНКТ-ПЕТЕРБУРГ       3.0    male  44  \n",
       "101  НИЖНИЙ-НОВГОРОД  НИЖЕГОРОДСКАЯ ОБЛАСТЬ       3.0    male  44  \n",
       "174           МОСКВА                 МОСКВА       3.0    male  44  \n",
       "248           МОСКВА                 МОСКВА       3.0    male  44  \n",
       "276          НОГИНСК     МОСКОВСКАЯ ОБЛАСТЬ       3.0    male  44  \n",
       "520        КРАСНОДАР     КРАСНОДАРСКИЙ КРАЙ       3.0    male  44  \n",
       "590           МОСКВА                 МОСКВА       3.0  female  44  \n",
       "784  НИЖНИЙ-НОВГОРОД  НИЖЕГОРОДСКАЯ ОБЛАСТЬ       3.0  female  44  "
      ]
     },
     "execution_count": 178,
     "metadata": {},
     "output_type": "execute_result"
    }
   ],
   "source": [
    "df_Users_data.loc[(df_Users_data.Timezone == 3) & (df_Users_data.Age == '44')]"
   ]
  },
  {
   "cell_type": "code",
   "execution_count": null,
   "metadata": {},
   "outputs": [],
   "source": [
    "nandronova"
   ]
  }
 ],
 "metadata": {
  "kernelspec": {
   "display_name": "Python 2",
   "language": "python",
   "name": "python2"
  },
  "language_info": {
   "codemirror_mode": {
    "name": "ipython",
    "version": 2
   },
   "file_extension": ".py",
   "mimetype": "text/x-python",
   "name": "python",
   "nbconvert_exporter": "python",
   "pygments_lexer": "ipython2",
   "version": "2.7.15"
  }
 },
 "nbformat": 4,
 "nbformat_minor": 2
}
